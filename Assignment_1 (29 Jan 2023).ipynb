{
 "cells": [
  {
   "cell_type": "code",
   "execution_count": 1,
   "id": "4b1dbca1-a5d0-4e02-8b37-7dfc07d935fd",
   "metadata": {},
   "outputs": [],
   "source": [
    "                                      # Assignment - 1 "
   ]
  },
  {
   "cell_type": "code",
   "execution_count": 3,
   "id": "ea640810-e6fb-4560-8d22-b71dbc5b684c",
   "metadata": {},
   "outputs": [],
   "source": [
    "Ans 1:-   Guido van Rossum developed python programming language"
   ]
  },
  {
   "cell_type": "code",
   "execution_count": null,
   "id": "800943b1-3d0d-4fd4-9875-1b19cb8efd54",
   "metadata": {},
   "outputs": [],
   "source": [
    "Ans 2:-  Object oriented programming and structured programming , supported by python"
   ]
  },
  {
   "cell_type": "code",
   "execution_count": null,
   "id": "ca3bfdd9-12e3-4e94-a995-b1e981f8106a",
   "metadata": {},
   "outputs": [],
   "source": [
    "Ans 3:-  Yes, python is case - sensitive , when dealing with identifiers."
   ]
  },
  {
   "cell_type": "code",
   "execution_count": null,
   "id": "e3f42a60-e655-419f-b01d-f2a8f44d6ee3",
   "metadata": {},
   "outputs": [],
   "source": [
    "Ans 4:-  .py extension is the correct extension of python file."
   ]
  },
  {
   "cell_type": "code",
   "execution_count": null,
   "id": "13390b7b-dd83-4538-b9c6-dcf3439d2d80",
   "metadata": {},
   "outputs": [],
   "source": [
    "Ans 5:-  Python is interpreted language."
   ]
  },
  {
   "cell_type": "code",
   "execution_count": 5,
   "id": "32c083d7-d321-49b0-adff-bd2ed1921ea7",
   "metadata": {},
   "outputs": [],
   "source": [
    "Ans 6:-  Indentation , { } , function, class etc. "
   ]
  },
  {
   "cell_type": "code",
   "execution_count": null,
   "id": "09f97d41-9543-4f3e-b655-2c5057bf5d98",
   "metadata": {},
   "outputs": [],
   "source": [
    "Ans 7:-  Hash character (#) is used . "
   ]
  },
  {
   "cell_type": "code",
   "execution_count": null,
   "id": "5f438afe-92f3-43f3-9a42-9cfa9b12db23",
   "metadata": {},
   "outputs": [],
   "source": [
    "Ans 8:-  python_version()  is used to find the current version."
   ]
  },
  {
   "cell_type": "code",
   "execution_count": null,
   "id": "136fc347-881c-405c-86b3-8857342fb8c8",
   "metadata": {},
   "outputs": [],
   "source": [
    "Ans 9:-  It uses a construct called \"lambda\""
   ]
  },
  {
   "cell_type": "code",
   "execution_count": null,
   "id": "d1b3a187-4acc-486b-87bb-37b308c87a25",
   "metadata": {},
   "outputs": [],
   "source": [
    "Ans 10:-  PIP stands for \" preferred installer program \" in python"
   ]
  },
  {
   "cell_type": "code",
   "execution_count": null,
   "id": "41bb7d57-ea0f-48ac-bda9-5cac73c28ddc",
   "metadata": {},
   "outputs": [],
   "source": [
    "Ans 11:- 1. print( ) function.\n",
    "2. type( ) function.\n",
    "3. input( ) function.\n",
    "4. abs( ) function.\n",
    "5. pow( ) function\n",
    "6. sort() function\n",
    "7. count() \n",
    "8. index()\n",
    "9. replace()\n",
    "10. update()  and many more..."
   ]
  },
  {
   "cell_type": "code",
   "execution_count": null,
   "id": "8e13b508-7028-4999-819f-7c066804cf70",
   "metadata": {},
   "outputs": [],
   "source": [
    "Ans 12:-  Maximum 79 characters are possible in python"
   ]
  },
  {
   "cell_type": "code",
   "execution_count": null,
   "id": "a1222812-0b83-4938-9ce6-69e80549761c",
   "metadata": {},
   "outputs": [],
   "source": [
    "Ans 13:-  Python programming language is a general-purpose, interpreted, \n",
    "        and high-level language that mainly offers code readability.\n",
    "        A variety of fields, including Web Development and Machine Learning."
   ]
  },
  {
   "cell_type": "code",
   "execution_count": null,
   "id": "22f55849-f5ca-4f0b-938b-2fff4b343961",
   "metadata": {},
   "outputs": [],
   "source": [
    "Ans 14:-   It involves a private Heap containing all Python objects and data structures."
   ]
  },
  {
   "cell_type": "code",
   "execution_count": null,
   "id": "b7819459-3295-4827-9249-18e2438cb8dc",
   "metadata": {},
   "outputs": [],
   "source": [
    "Ans 15:-  1. Type “Python” in the Windows Search Bar.\n",
    "          2. Right-click on the Python App, and then select “Open file location“\n",
    "          3. Right-click again on the Python shortcut, and then select “Open file location“"
   ]
  },
  {
   "cell_type": "code",
   "execution_count": null,
   "id": "bf4c4cb7-c591-4b1f-9db3-107a108cd1b3",
   "metadata": {},
   "outputs": [],
   "source": [
    "Ans 16:-   The indentation in Python is very important. Python uses indentation to indicate a block of code. \n",
    "           the indentation in Python is very important.\n",
    "           Python uses indentation to indicate a block of code."
   ]
  },
  {
   "cell_type": "code",
   "execution_count": null,
   "id": "d936be0f-cdaa-4b3a-910a-9eb85a608db7",
   "metadata": {},
   "outputs": [],
   "source": []
  }
 ],
 "metadata": {
  "kernelspec": {
   "display_name": "Python 3 (ipykernel)",
   "language": "python",
   "name": "python3"
  },
  "language_info": {
   "codemirror_mode": {
    "name": "ipython",
    "version": 3
   },
   "file_extension": ".py",
   "mimetype": "text/x-python",
   "name": "python",
   "nbconvert_exporter": "python",
   "pygments_lexer": "ipython3",
   "version": "3.10.8"
  }
 },
 "nbformat": 4,
 "nbformat_minor": 5
}
